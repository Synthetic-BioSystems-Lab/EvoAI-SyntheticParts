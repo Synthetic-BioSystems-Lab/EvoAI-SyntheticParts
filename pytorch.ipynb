{
 "cells": [
  {
   "cell_type": "code",
   "execution_count": 5,
   "metadata": {},
   "outputs": [],
   "source": [
    "import seaborn as sns\n",
    "import getpass\n",
    "import requests\n",
    "import re\n",
    "import numpy as np\n",
    "import pandas as pd"
   ]
  },
  {
   "cell_type": "markdown",
   "metadata": {},
   "source": [
    "### Accessing SynBioHub to pull iGEM parts registry data"
   ]
  },
  {
   "cell_type": "code",
   "execution_count": 3,
   "metadata": {},
   "outputs": [
    {
     "name": "stdout",
     "output_type": "stream",
     "text": [
      "200\n",
      "b'67149fa2-a981-4011-b803-0edb94a0fd85'\n"
     ]
    }
   ],
   "source": [
    "response = requests.post(\n",
    "    'https://synbiohub.org/login',\n",
    "    headers={\n",
    "        'Accept': 'text/plain'\n",
    "    },\n",
    "    data={\n",
    "        'email': input('SynBioHub email: '),\n",
    "        'password' : getpass.getpass('Password: '),\n",
    "        },\n",
    ")\n",
    "\n",
    "print(response.status_code)\n",
    "print(response.content)"
   ]
  },
  {
   "cell_type": "markdown",
   "metadata": {},
   "source": [
    "#### Unable to access SynBioHub right\n",
    "\n",
    "Need to build method to access larger database of genetic parts sequences"
   ]
  },
  {
   "cell_type": "code",
   "execution_count": 4,
   "metadata": {},
   "outputs": [
    {
     "name": "stdout",
     "output_type": "stream",
     "text": [
      "200\n",
      "b'[{\"uri\":\"https://synbiohub.org/public/CnDatabase/CnDatabase_collection/1\",\"name\":\"Cryptococcus neoformans Database in Synthetic Biology Open Language\",\"description\":\"This is a collection of Biological Genetic Parts of Cryptococcus neoformans containing 23 different promoters, coding sequences and terminators, which were previously used and whose efficacy has already been proven in this organism. This work was made in order to facilitate the build and assembly of genetic circuits and plasmids for the study of this pathogen.\",\"displayId\":\"CnDatabase_collection\",\"version\":\"1\"},{\"uri\":\"https://synbiohub.org/public/bsu/bsu_collection/1\",\"name\":\"Bacillus subtilis Collection\",\"description\":\"This collection includes information about promoters, operators, CDSs and proteins from Bacillus subtilis. Functional interactions such as transcriptional activation and repression, protein production and various protein-protein interactions are also included.\",\"displayId\":\"bsu_collection\",\"version\":\"1\"},{\"uri\":\"https://synbiohub.org/public/igem/igem_collection/1\",\"name\":\"iGEM Parts Registry\",\"description\":\"The iGEM Registry is a growing collection of genetic parts that can be mixed and matched to build synthetic biology devices and systems.  As part of the synthetic biology community\\'s efforts to make biology easier to engineer, it provides a source of genetic parts to iGEM teams and academic labs.\",\"displayId\":\"igem_collection\",\"version\":\"1\"},{\"uri\":\"https://synbiohub.org/public/free_genes_feature_libraries/free_genes_feature_libraries_collection/1\",\"name\":\"Free Genes Feature Libraries\",\"description\":\"A collection of Free Genes feature libraries for use with Synthetic Biology Curation Tools (SYNBICT).\",\"displayId\":\"free_genes_feature_libraries_collection\",\"version\":\"1\"},{\"uri\":\"https://synbiohub.org/public/nt_test_collection/nt_test_collection_collection/1\",\"name\":\".nt test\",\"description\":\"i think this will break\",\"displayId\":\"nt_test_collection_collection\",\"version\":\"1\"},{\"uri\":\"https://synbiohub.org/public/iGEM_2016_interlab/iGEM_2016_interlab_collection/1\",\"name\":\"Devices from the iGEM 2016 interlab\",\"description\":\"This is a collection of devices that were used in the 2016 iGEM interlab study\",\"displayId\":\"iGEM_2016_interlab_collection\",\"version\":\"1\"},{\"uri\":\"https://synbiohub.org/public/igem_feature_libraries/igem_feature_libraries_collection/1\",\"name\":\"iGEM Feature Libraries\",\"description\":\"A collection of iGEM feature libraries for use with Synthetic Biology Curation Tools (SYNBICT).\",\"displayId\":\"igem_feature_libraries_collection\",\"version\":\"1\"},{\"uri\":\"https://synbiohub.org/public/Digitalizer/Digitalizer_collection/1\",\"name\":\"Digitalizer\",\"description\":\"A genetic device to digitalize gene expression into a sharp on/off signal.\",\"displayId\":\"Digitalizer_collection\",\"version\":\"1\"},{\"uri\":\"https://synbiohub.org/public/iGEMDistributions/iGEMDistributions_collection/1\",\"name\":\"iGEM Distributions\",\"description\":\"Part distributions for the iGEM competition\",\"displayId\":\"iGEMDistributions_collection\",\"version\":\"1\"},{\"uri\":\"https://synbiohub.org/public/Excel2SBOL/Excel2SBOL_collection/1\",\"name\":\"Excel2SBOL\",\"description\":\"A collection of sbol that is used for the excel2sbol library\",\"displayId\":\"Excel2SBOL_collection\",\"version\":\"1\"},{\"uri\":\"https://synbiohub.org/public/sbksactivities/sbksactivities_collection/1\",\"name\":\"sbks activities\",\"description\":\"Activities linked to the SBKS project\",\"displayId\":\"sbksactivities_collection\",\"version\":\"1\"},{\"uri\":\"https://synbiohub.org/public/SEGA/SEGA_collection/1\",\"name\":\"SEGA\",\"description\":\"In the Standardized Genome Architecture (SEGA), genomic integration of DNA fragments is enabled by \\xce\\xbb-Red recombineering and so-called landing pads that are a common concept in synthetic biology and typically contain features that i) enable insertion of additional genetic elements and ii) provide well-characterized functional parts such as promoters and genes, and iii) provides insulation against genome context-dependent effects. The SEGA landing pads allow for reusable homology regions and time-efficient construction of parallel genetic designs with a minimal number of reagents and handling steps. SEGA bricks, typically synthetic DNA or PCR fragments, are integrated on the genome simply by combining the two reagents (i.e. competent cells and DNA), followed by incubation steps, and successful recombinants are identified by visual inspection on agar plates. The design of the SEGA standard was heavily influenced by the Standard European Vector Architecture (SEVA). SEGA landing pads typically hosts two major genetic \\xe2\\x80\\x9ccontrol elements\\xe2\\x80\\x9d that influence gene expression on the transcriptional (C1), and translational (C2) level. Furthermore, landing pads contain gadgets such as selection and counterselection markers.\",\"displayId\":\"SEGA_collection\",\"version\":\"1\"},{\"uri\":\"https://synbiohub.org/public/Intein_assisted_Bisection_Mapping/Intein_assisted_Bisection_Mapping_collection/1\",\"name\":\"Intein_assisted_Bisection_Mapping\",\"description\":\"Split inteins are powerful tools for seamless ligation of synthetic split proteins. Yet, their use remains limited because the already intricate split site identification problem is often complicated by the requirement of extein junction sequences. To address this, we augmented a mini-Mu transposon-based screening approach and devised the intein-assisted bisection mapping (IBM) method. IBM robustly revealed clusters of split sites on five proteins, converting them into AND or NAND logic gates. We further showed that the use of inteins expands functional sequence space for splitting a protein. We also demonstrated the utility of our approach over rational inference of split sites from secondary structure alignment of homologous proteins. Furthermore, the intein inserted at an identified site could be engineered by the transposon again to become partially chemically inducible, and to some extent enabled post-translational tuning on host protein function. Our work offers a generalizable and systematic route towards creating split protein-intein fusions and conditional inteins for protein activity control.\",\"displayId\":\"Intein_assisted_Bisection_Mapping_collection\",\"version\":\"1\"},{\"uri\":\"https://synbiohub.org/public/Eco1C1G1T1/Eco1C1G1T1_collection/1\",\"name\":\"Cello E. Coli Parts\",\"description\":\"These are the Cello parts for E. Coli circuits\",\"displayId\":\"Eco1C1G1T1_collection\",\"version\":\"1\"},{\"uri\":\"https://synbiohub.org/public/SBOLCompliantSoftware/SBOLCompliantSoftware_collection/1\",\"name\":\"SBOL Compliant Software\",\"description\":\"A collection of software that supports the Synthetic Biology Open Language (SBOL) standard\",\"displayId\":\"SBOLCompliantSoftware_collection\",\"version\":\"1\"},{\"uri\":\"https://synbiohub.org/user/wdsineath/PromotersiGEM/PromotersiGEM_collection/1\",\"name\":\"Promoters iGEM\",\"description\":\"Filtered iGEM collection to only promoters\\\\n\",\"displayId\":\"PromotersiGEM_collection\",\"version\":\"1\"}]'\n"
     ]
    }
   ],
   "source": [
    "# response = requests.get(\n",
    "#     'https://synbiohub.org/rootCollections',\n",
    "#     headers={\n",
    "#         'Accept': 'text/plain',\n",
    "#         'X-authorization': response.content\n",
    "#         },\n",
    "# )\n",
    "\n",
    "# print(response.status_code)\n",
    "# print(response.content)"
   ]
  },
  {
   "cell_type": "code",
   "execution_count": 9,
   "metadata": {},
   "outputs": [
    {
     "name": "stdout",
     "output_type": "stream",
     "text": [
      "404\n",
      "b'https://synbiohub.org/public/igem/igem_collection/1 not found'\n"
     ]
    }
   ],
   "source": [
    "# response = requests.get(\n",
    "#     'https://synbiohub.org/public/igem/igem_collection/1/sbol',\n",
    "#     headers={\n",
    "#         'Accept': 'text/plain',\n",
    "#         'X-authorization': response.content\n",
    "#         },\n",
    "# )\n",
    "\n",
    "# print(response.status_code)\n",
    "# print(response.content)"
   ]
  },
  {
   "cell_type": "code",
   "execution_count": 8,
   "metadata": {},
   "outputs": [
    {
     "name": "stdout",
     "output_type": "stream",
     "text": [
      "Empty DataFrame\n",
      "Columns: [Name, DNA Sequence]\n",
      "Index: []\n"
     ]
    }
   ],
   "source": [
    "# import pandas as pd\n",
    "\n",
    "# # Search for DNA sequences using regular expression\n",
    "# dna_sequences = re.findall(r'<sbol:displayId>(.*?)_sequence</sbol:displayId>.*?<sbol:elements>(.*?)</sbol:elements>', response.content.decode('utf-8'), re.DOTALL)\n",
    "\n",
    "# # Create a pandas dataframe\n",
    "# df = pd.DataFrame(dna_sequences, columns=['Name', 'DNA Sequence'])\n",
    "\n",
    "# # Print the dataframe\n",
    "# print(df)"
   ]
  },
  {
   "cell_type": "markdown",
   "metadata": {},
   "source": [
    "### Using downloaded promoter data"
   ]
  },
  {
   "cell_type": "code",
   "execution_count": 6,
   "metadata": {},
   "outputs": [
    {
     "name": "stdout",
     "output_type": "stream",
     "text": [
      "149\n",
      "23\n",
      "611\n",
      "4\n"
     ]
    }
   ],
   "source": [
    "promoters_2019 = open('./data_collection/SBOL_Files/iGEM_2019_Promoters_collection.xml').read()\n",
    "\n",
    "rbs_2019 = open('./data_collection/SBOL_files/iGEM_2019_RBSs_collection.xml').read()\n",
    "\n",
    "cds_2019 = open('./data_collection/SBOL_files/iGEM_2019_CDS_collection.xml').read()\n",
    "\n",
    "t_2019 = open('data_collection/SBOL_files/iGEM_2019_Terminators_collection.xml').read()\n",
    "\n",
    "\n",
    "# Search for DNA sequences using regular expression\n",
    "# Promoters\n",
    "p19_dna_sequences = re.findall(r'<sbol:displayId>(.*?)_sequence</sbol:displayId>.*?<sbol:elements>(.*?)</sbol:elements>', promoters_2019, re.DOTALL)\n",
    "\n",
    "# Create a pandas dataframe\n",
    "p19_df = pd.DataFrame(p19_dna_sequences, columns=['Name', 'DNA Sequence'])\n",
    "print(len(p19_df))\n",
    "# Print the dataframe\n",
    "#print(p19_df)\n",
    "\n",
    "# RBS\n",
    "rbs19_dna_sequences = re.findall(r'<sbol:displayId>(.*?)_sequence</sbol:displayId>.*?<sbol:elements>(.*?)</sbol:elements>', rbs_2019, re.DOTALL)\n",
    "rbs19_df = pd.DataFrame(rbs19_dna_sequences, columns=['Name', 'DNA Sequence'])\n",
    "#print(rbs19_df)\n",
    "print(len(rbs19_df))\n",
    "\n",
    "# CDS\n",
    "cds19_dna_sequences = re.findall(r'<sbol:displayId>(.*?)_sequence</sbol:displayId>.*?<sbol:elements>(.*?)</sbol:elements>', cds_2019, re.DOTALL)\n",
    "cds19_df = pd.DataFrame(cds19_dna_sequences, columns=['Name', 'DNA Sequence'])\n",
    "print(len(cds19_df))\n",
    "\n",
    "# Terminators\n",
    "t19_dna_sequences = re.findall(r'<sbol:displayId>(.*?)_sequence</sbol:displayId>.*?<sbol:elements>(.*?)</sbol:elements>', t_2019, re.DOTALL)\n",
    "t19_df = pd.DataFrame(t19_dna_sequences, columns=['Name', 'DNA Sequence'])\n",
    "print(len(t19_df))\n",
    "\n",
    "# why is the first name of the df the name of the collection? \n",
    "# for now, will remove first row so that we have realistic names\n",
    "p19_df = p19_df.drop(p19_df.index[0])\n",
    "\n",
    "# add in promoter label for these seqs\n",
    "p19_df['Element'] = \"Promoter\"\n",
    "\n",
    "rbs19_df = rbs19_df.drop(rbs19_df.index[0])\n",
    "rbs19_df['Element'] = \"RBS\"\n",
    "\n",
    "cds19_df = cds19_df.drop(cds19_df.index[0])\n",
    "cds19_df['Element'] = \"CDS\"\n",
    "\n",
    "t19_df = t19_df.drop(t19_df.index[0])\n",
    "t19_df['Element'] = \"Terminator\""
   ]
  },
  {
   "cell_type": "code",
   "execution_count": 29,
   "metadata": {},
   "outputs": [
    {
     "data": {
      "text/html": [
       "<div>\n",
       "<style scoped>\n",
       "    .dataframe tbody tr th:only-of-type {\n",
       "        vertical-align: middle;\n",
       "    }\n",
       "\n",
       "    .dataframe tbody tr th {\n",
       "        vertical-align: top;\n",
       "    }\n",
       "\n",
       "    .dataframe thead th {\n",
       "        text-align: right;\n",
       "    }\n",
       "</style>\n",
       "<table border=\"1\" class=\"dataframe\">\n",
       "  <thead>\n",
       "    <tr style=\"text-align: right;\">\n",
       "      <th></th>\n",
       "      <th>Name</th>\n",
       "      <th>DNA Sequence</th>\n",
       "      <th>Element</th>\n",
       "    </tr>\n",
       "  </thead>\n",
       "  <tbody>\n",
       "    <tr>\n",
       "      <th>1</th>\n",
       "      <td>BBa_J05209</td>\n",
       "      <td>taacaccgtgcgtgttgactattttacctctggcggtgataatggttgc</td>\n",
       "      <td>Promoter</td>\n",
       "    </tr>\n",
       "    <tr>\n",
       "      <th>2</th>\n",
       "      <td>BBa_I732406</td>\n",
       "      <td>aattgtgagcgctcacaatttttacactttatgcttccggctcgta...</td>\n",
       "      <td>Promoter</td>\n",
       "    </tr>\n",
       "    <tr>\n",
       "      <th>3</th>\n",
       "      <td>BBa_K1773016</td>\n",
       "      <td>acctgtaggatcgtacaggtttacgcaagaaaatggtttgttatag...</td>\n",
       "      <td>Promoter</td>\n",
       "    </tr>\n",
       "    <tr>\n",
       "      <th>4</th>\n",
       "      <td>BBa_K2117000</td>\n",
       "      <td>agagaccgggttggcggcgtatttgtgtcccaaaaaacagccccaa...</td>\n",
       "      <td>Promoter</td>\n",
       "    </tr>\n",
       "    <tr>\n",
       "      <th>5</th>\n",
       "      <td>BBa_K1444002</td>\n",
       "      <td>ggagttctgagaattggtatgccttataagtccaattaacagttga...</td>\n",
       "      <td>Promoter</td>\n",
       "    </tr>\n",
       "    <tr>\n",
       "      <th>...</th>\n",
       "      <td>...</td>\n",
       "      <td>...</td>\n",
       "      <td>...</td>\n",
       "    </tr>\n",
       "    <tr>\n",
       "      <th>3171</th>\n",
       "      <td>BBa_R2108</td>\n",
       "      <td>tttatcaaaaagagtgttgacatttttaagtcccacgcgtgggatt...</td>\n",
       "      <td>Promoter</td>\n",
       "    </tr>\n",
       "    <tr>\n",
       "      <th>3172</th>\n",
       "      <td>BBa_K1444025</td>\n",
       "      <td>ggagttctgagaattggtatgccttataagtccaattaacagttga...</td>\n",
       "      <td>Promoter</td>\n",
       "    </tr>\n",
       "    <tr>\n",
       "      <th>3173</th>\n",
       "      <td>BBa_K879037</td>\n",
       "      <td>ttgatattgtgagcggataacaagatatc</td>\n",
       "      <td>Promoter</td>\n",
       "    </tr>\n",
       "    <tr>\n",
       "      <th>3174</th>\n",
       "      <td>BBa_I15008</td>\n",
       "      <td>atgagtgtcaacttagcttcccagttgcgggaagggacgaaaaaat...</td>\n",
       "      <td>Promoter</td>\n",
       "    </tr>\n",
       "    <tr>\n",
       "      <th>3175</th>\n",
       "      <td>BBa_K1387002</td>\n",
       "      <td>atgtccagattagataaaagtaaagtgattaacagcgcattagagc...</td>\n",
       "      <td>Promoter</td>\n",
       "    </tr>\n",
       "  </tbody>\n",
       "</table>\n",
       "<p>3175 rows × 3 columns</p>\n",
       "</div>"
      ],
      "text/plain": [
       "              Name                                       DNA Sequence  \\\n",
       "1       BBa_J05209  taacaccgtgcgtgttgactattttacctctggcggtgataatggttgc   \n",
       "2      BBa_I732406  aattgtgagcgctcacaatttttacactttatgcttccggctcgta...   \n",
       "3     BBa_K1773016  acctgtaggatcgtacaggtttacgcaagaaaatggtttgttatag...   \n",
       "4     BBa_K2117000  agagaccgggttggcggcgtatttgtgtcccaaaaaacagccccaa...   \n",
       "5     BBa_K1444002  ggagttctgagaattggtatgccttataagtccaattaacagttga...   \n",
       "...            ...                                                ...   \n",
       "3171     BBa_R2108  tttatcaaaaagagtgttgacatttttaagtcccacgcgtgggatt...   \n",
       "3172  BBa_K1444025  ggagttctgagaattggtatgccttataagtccaattaacagttga...   \n",
       "3173   BBa_K879037                      ttgatattgtgagcggataacaagatatc   \n",
       "3174    BBa_I15008  atgagtgtcaacttagcttcccagttgcgggaagggacgaaaaaat...   \n",
       "3175  BBa_K1387002  atgtccagattagataaaagtaaagtgattaacagcgcattagagc...   \n",
       "\n",
       "       Element  \n",
       "1     Promoter  \n",
       "2     Promoter  \n",
       "3     Promoter  \n",
       "4     Promoter  \n",
       "5     Promoter  \n",
       "...        ...  \n",
       "3171  Promoter  \n",
       "3172  Promoter  \n",
       "3173  Promoter  \n",
       "3174  Promoter  \n",
       "3175  Promoter  \n",
       "\n",
       "[3175 rows x 3 columns]"
      ]
     },
     "execution_count": 29,
     "metadata": {},
     "output_type": "execute_result"
    }
   ],
   "source": [
    "allPromoters_df"
   ]
  },
  {
   "cell_type": "code",
   "execution_count": 34,
   "metadata": {},
   "outputs": [],
   "source": [
    "# training data\n",
    "promoters_toValidate = open('./data_collection/SBOL_files/iGEM_Promoters_collection.xml').read()\n",
    "\n",
    "allPromoters_dna_sequences = re.findall(r'<sbol:displayId>(.*?)_sequence</sbol:displayId>.*?<sbol:elements>(.*?)</sbol:elements>', promoters_toValidate, re.DOTALL)\n",
    "\n",
    "# Create a pandas dataframe\n",
    "allPromoters_df = pd.DataFrame(allPromoters_dna_sequences, columns=['Name', 'DNA Sequence'])\n",
    "allPromoters_df = allPromoters_df.drop(allPromoters_df.index[0])\n",
    "allPromoters_df['Element'] = \"Promoter\""
   ]
  },
  {
   "cell_type": "code",
   "execution_count": 8,
   "metadata": {},
   "outputs": [
    {
     "data": {
      "text/html": [
       "<div>\n",
       "<style scoped>\n",
       "    .dataframe tbody tr th:only-of-type {\n",
       "        vertical-align: middle;\n",
       "    }\n",
       "\n",
       "    .dataframe tbody tr th {\n",
       "        vertical-align: top;\n",
       "    }\n",
       "\n",
       "    .dataframe thead th {\n",
       "        text-align: right;\n",
       "    }\n",
       "</style>\n",
       "<table border=\"1\" class=\"dataframe\">\n",
       "  <thead>\n",
       "    <tr style=\"text-align: right;\">\n",
       "      <th></th>\n",
       "      <th>Name</th>\n",
       "      <th>DNA Sequence</th>\n",
       "      <th>Element</th>\n",
       "    </tr>\n",
       "  </thead>\n",
       "  <tbody>\n",
       "    <tr>\n",
       "      <th>0</th>\n",
       "      <td>BBa_K823010</td>\n",
       "      <td>ctgatggctagctcagtcctagggattatgctagc</td>\n",
       "      <td>Promoter</td>\n",
       "    </tr>\n",
       "    <tr>\n",
       "      <th>1</th>\n",
       "      <td>BBa_R0010</td>\n",
       "      <td>caatacgcaaaccgcctctccccgcgcgttggccgattcattaatg...</td>\n",
       "      <td>Promoter</td>\n",
       "    </tr>\n",
       "    <tr>\n",
       "      <th>2</th>\n",
       "      <td>BBa_K823005</td>\n",
       "      <td>tttacagctagctcagtcctaggtattatgctagc</td>\n",
       "      <td>Promoter</td>\n",
       "    </tr>\n",
       "    <tr>\n",
       "      <th>3</th>\n",
       "      <td>BBa_K823012</td>\n",
       "      <td>tttatagctagctcagtcctaggtacaatgctagc</td>\n",
       "      <td>Promoter</td>\n",
       "    </tr>\n",
       "    <tr>\n",
       "      <th>4</th>\n",
       "      <td>BBa_K733013</td>\n",
       "      <td>aattttgtcaaaataattttattgacaacgtcttattaacgttgat...</td>\n",
       "      <td>Promoter</td>\n",
       "    </tr>\n",
       "    <tr>\n",
       "      <th>...</th>\n",
       "      <td>...</td>\n",
       "      <td>...</td>\n",
       "      <td>...</td>\n",
       "    </tr>\n",
       "    <tr>\n",
       "      <th>778</th>\n",
       "      <td>BBa_K1689018</td>\n",
       "      <td>atgggatccgcggaggatatggctgccgacgaaatgcatcatcatc...</td>\n",
       "      <td>CDS</td>\n",
       "    </tr>\n",
       "    <tr>\n",
       "      <th>779</th>\n",
       "      <td>BBa_K801070</td>\n",
       "      <td>tacacaatgtctttacaagaagtcttgagaatgaacggtggtgaag...</td>\n",
       "      <td>CDS</td>\n",
       "    </tr>\n",
       "    <tr>\n",
       "      <th>780</th>\n",
       "      <td>BBa_B0013</td>\n",
       "      <td>aaaaaatcaaactggctcaccttcgggtgggcctttttgcgtttata</td>\n",
       "      <td>Terminator</td>\n",
       "    </tr>\n",
       "    <tr>\n",
       "      <th>781</th>\n",
       "      <td>BBa_B0023</td>\n",
       "      <td>tataaacgcaaaaaggcccacccgaaggtgagccagtttgatttttt</td>\n",
       "      <td>Terminator</td>\n",
       "    </tr>\n",
       "    <tr>\n",
       "      <th>782</th>\n",
       "      <td>BBa_B0012</td>\n",
       "      <td>tcacactggctcaccttcgggtgggcctttctgcgtttata</td>\n",
       "      <td>Terminator</td>\n",
       "    </tr>\n",
       "  </tbody>\n",
       "</table>\n",
       "<p>783 rows × 3 columns</p>\n",
       "</div>"
      ],
      "text/plain": [
       "             Name                                       DNA Sequence  \\\n",
       "0     BBa_K823010                ctgatggctagctcagtcctagggattatgctagc   \n",
       "1       BBa_R0010  caatacgcaaaccgcctctccccgcgcgttggccgattcattaatg...   \n",
       "2     BBa_K823005                tttacagctagctcagtcctaggtattatgctagc   \n",
       "3     BBa_K823012                tttatagctagctcagtcctaggtacaatgctagc   \n",
       "4     BBa_K733013  aattttgtcaaaataattttattgacaacgtcttattaacgttgat...   \n",
       "..            ...                                                ...   \n",
       "778  BBa_K1689018  atgggatccgcggaggatatggctgccgacgaaatgcatcatcatc...   \n",
       "779   BBa_K801070  tacacaatgtctttacaagaagtcttgagaatgaacggtggtgaag...   \n",
       "780     BBa_B0013    aaaaaatcaaactggctcaccttcgggtgggcctttttgcgtttata   \n",
       "781     BBa_B0023    tataaacgcaaaaaggcccacccgaaggtgagccagtttgatttttt   \n",
       "782     BBa_B0012          tcacactggctcaccttcgggtgggcctttctgcgtttata   \n",
       "\n",
       "        Element  \n",
       "0      Promoter  \n",
       "1      Promoter  \n",
       "2      Promoter  \n",
       "3      Promoter  \n",
       "4      Promoter  \n",
       "..          ...  \n",
       "778         CDS  \n",
       "779         CDS  \n",
       "780  Terminator  \n",
       "781  Terminator  \n",
       "782  Terminator  \n",
       "\n",
       "[783 rows x 3 columns]"
      ]
     },
     "execution_count": 8,
     "metadata": {},
     "output_type": "execute_result"
    }
   ],
   "source": [
    "# Test data\n",
    "pro_rbs_cds_ter_df = pd.concat([p19_df, rbs19_df, cds19_df, t19_df], ignore_index=True)\n",
    "pro_rbs_cds_ter_df"
   ]
  },
  {
   "cell_type": "markdown",
   "metadata": {},
   "source": [
    "### **EDIT** Transform the string data into vectors for use in PyTorch\n",
    "We generate a dictionary with (keys, values) as (sequence, array). Where the arrays are numerical translations of the sequence based on the following: \n",
    "\n",
    "'a': [1.0, 0.0, 0.0, 0.0]  \n",
    "'c': [0.0, 1.0, 0.0, 0.0]  \n",
    "'g': [0.0, 0.0, 1.0, 0.0]  \n",
    "'t': [0.0, 0.0, 0.0, 1.0]  \n",
    "\n",
    "We also generate a correponding list of element labels to use for training "
   ]
  },
  {
   "cell_type": "code",
   "execution_count": 18,
   "metadata": {},
   "outputs": [],
   "source": [
    "def vectorize_sequence(seq):\n",
    "    vec_dict = {'a': [1.0, 0.0, 0.0, 0.0],\n",
    "                'c': [0.0, 1.0, 0.0, 0.0],\n",
    "                'g': [0.0, 0.0, 1.0, 0.0],\n",
    "                't': [0.0, 0.0, 0.0, 1.0]}\n",
    "    vector = np.array([vec_dict[n] for n in seq])\n",
    "    return vector"
   ]
  },
  {
   "cell_type": "markdown",
   "metadata": {},
   "source": [
    "### Create PyTorch Datasets"
   ]
  },
  {
   "cell_type": "code",
   "execution_count": 25,
   "metadata": {},
   "outputs": [
    {
     "name": "stdout",
     "output_type": "stream",
     "text": [
      "7891\n"
     ]
    },
    {
     "ename": "RuntimeError",
     "evalue": "stack expects each tensor to be equal size, but got [49, 4] at entry 0 and [125, 4] at entry 1",
     "output_type": "error",
     "traceback": [
      "\u001b[0;31m---------------------------------------------------------------------------\u001b[0m",
      "\u001b[0;31mRuntimeError\u001b[0m                              Traceback (most recent call last)",
      "Cell \u001b[0;32mIn[25], line 33\u001b[0m\n\u001b[1;32m     30\u001b[0m         \u001b[38;5;28;01mreturn\u001b[39;00m \u001b[38;5;28mlen\u001b[39m(\u001b[38;5;28mself\u001b[39m\u001b[38;5;241m.\u001b[39mseqs)\n\u001b[1;32m     32\u001b[0m \u001b[38;5;66;03m#initialize the data into correct form\u001b[39;00m\n\u001b[0;32m---> 33\u001b[0m training_data \u001b[38;5;241m=\u001b[39m \u001b[43mpromoterDataset\u001b[49m\u001b[43m(\u001b[49m\u001b[43mallPromoters_df\u001b[49m\u001b[43m)\u001b[49m\n\u001b[1;32m     34\u001b[0m test_data \u001b[38;5;241m=\u001b[39m promoterDataset(pro_rbs_cds_ter_df)\n\u001b[1;32m     36\u001b[0m train_dataloader \u001b[38;5;241m=\u001b[39m DataLoader(training_data)\n",
      "Cell \u001b[0;32mIn[25], line 19\u001b[0m, in \u001b[0;36mpromoterDataset.__init__\u001b[0;34m(self, df, seq_col, element_col)\u001b[0m\n\u001b[1;32m     17\u001b[0m max_len \u001b[38;5;241m=\u001b[39m df[seq_col]\u001b[38;5;241m.\u001b[39mmap(\u001b[38;5;28mlen\u001b[39m)\u001b[38;5;241m.\u001b[39mmax()\n\u001b[1;32m     18\u001b[0m \u001b[38;5;28mprint\u001b[39m(max_len)\n\u001b[0;32m---> 19\u001b[0m \u001b[38;5;28mself\u001b[39m\u001b[38;5;241m.\u001b[39mvec_seqs \u001b[38;5;241m=\u001b[39m \u001b[43mtorch\u001b[49m\u001b[38;5;241;43m.\u001b[39;49m\u001b[43mstack\u001b[49m\u001b[43m(\u001b[49m\u001b[43m[\u001b[49m\u001b[43mtorch\u001b[49m\u001b[38;5;241;43m.\u001b[39;49m\u001b[43mtensor\u001b[49m\u001b[43m(\u001b[49m\u001b[43mvectorize_sequence\u001b[49m\u001b[43m(\u001b[49m\u001b[43mn\u001b[49m\u001b[43m)\u001b[49m\u001b[43m)\u001b[49m\u001b[43m \u001b[49m\u001b[38;5;28;43;01mfor\u001b[39;49;00m\u001b[43m \u001b[49m\u001b[43mn\u001b[49m\u001b[43m \u001b[49m\u001b[38;5;129;43;01min\u001b[39;49;00m\u001b[43m \u001b[49m\u001b[38;5;28;43mself\u001b[39;49m\u001b[38;5;241;43m.\u001b[39;49m\u001b[43mseqs\u001b[49m\u001b[43m]\u001b[49m\u001b[43m)\u001b[49m\n\u001b[1;32m     21\u001b[0m \u001b[38;5;66;03m### Y values\u001b[39;00m\n\u001b[1;32m     22\u001b[0m \u001b[38;5;28mself\u001b[39m\u001b[38;5;241m.\u001b[39mlabels(torch\u001b[38;5;241m.\u001b[39mtensor(\u001b[38;5;28mlist\u001b[39m(df[element_col]\u001b[38;5;241m.\u001b[39mvalues))\u001b[38;5;241m.\u001b[39munsqueeze(\u001b[38;5;241m1\u001b[39m))\n",
      "\u001b[0;31mRuntimeError\u001b[0m: stack expects each tensor to be equal size, but got [49, 4] at entry 0 and [125, 4] at entry 1"
     ]
    }
   ],
   "source": [
    "import os\n",
    "import pandas as pd\n",
    "import torch\n",
    "from torchvision import datasets\n",
    "from torch.utils.data import Dataset, DataLoader\n",
    "from torchvision.transforms import ToTensor\n",
    "\n",
    "import matplotlib.pyplot as plt\n",
    "\n",
    "# set up the dataset class\n",
    "class promoterDataset(Dataset):\n",
    "    def __init__(self, df, seq_col='DNA Sequence', element_col='Element'):\n",
    "        self.seqs = df[seq_col].to_list()\n",
    "        self.seq_len = len(self.seqs[0])\n",
    "\n",
    "        ### X values  ****we introduce padding to these tensors in order to create the stack. This may introduce bias.\n",
    "        max_len = df[seq_col].map(len).max()\n",
    "        for n in self.seqs:\n",
    "            new_vec = vectorize_sequence(n)\n",
    "            if len(n) < max_len:\n",
    "                #### use padding to ensure all tensors are equal dimensions\n",
    "            self.vec_seqs = torch.stack(new_vec, self.vec_seqs)\n",
    "\n",
    "        ### Y values\n",
    "        self.labels(torch.tensor(list(df[element_col].values)).unsqueeze(1))\n",
    "\n",
    "    def __getitem__(self, index):\n",
    "        seq = self.vec_seqs[index]\n",
    "        label = self.label[index]\n",
    "        return seq, label\n",
    "\n",
    "    def __len__(self):\n",
    "        return len(self.seqs)\n",
    "    \n",
    "#initialize the data into correct form\n",
    "training_data = promoterDataset(allPromoters_df)\n",
    "test_data = promoterDataset(pro_rbs_cds_ter_df)\n",
    "\n",
    "train_dataloader = DataLoader(training_data)\n",
    "test_dataloader = DataLoader(test_data)\n",
    "\n",
    "for sample in test_dataloader: \n",
    "    print(sample)"
   ]
  },
  {
   "cell_type": "markdown",
   "metadata": {},
   "source": [
    "### Setting up the model"
   ]
  },
  {
   "cell_type": "code",
   "execution_count": 22,
   "metadata": {},
   "outputs": [
    {
     "name": "stdout",
     "output_type": "stream",
     "text": [
      "Using mps device\n"
     ]
    }
   ],
   "source": [
    "# Optimizing GPU > MPS > CPU\n",
    "device = (\n",
    "    \"cuda\"\n",
    "    if torch.cuda.is_available()\n",
    "    else \"mps\"\n",
    "    if torch.backends.mps.is_available()\n",
    "    else \"cpu\"\n",
    ")\n",
    "print(f\"Using {device} device\")"
   ]
  },
  {
   "cell_type": "code",
   "execution_count": null,
   "metadata": {},
   "outputs": [],
   "source": [
    "class NeuralNetwork(nn.Module):\n",
    "    def __init__(self):\n",
    "        super().__init__()\n",
    "        "
   ]
  }
 ],
 "metadata": {
  "kernelspec": {
   "display_name": "EvoAI",
   "language": "python",
   "name": "python3"
  },
  "language_info": {
   "codemirror_mode": {
    "name": "ipython",
    "version": 3
   },
   "file_extension": ".py",
   "mimetype": "text/x-python",
   "name": "python",
   "nbconvert_exporter": "python",
   "pygments_lexer": "ipython3",
   "version": "3.12.7"
  }
 },
 "nbformat": 4,
 "nbformat_minor": 2
}
